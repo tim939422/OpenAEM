{
 "cells": [
  {
   "cell_type": "code",
   "execution_count": null,
   "metadata": {},
   "outputs": [],
   "source": [
    "%matplotlib widget\n",
    "import numpy as np\n",
    "import matplotlib.pyplot as plt\n",
    "\n",
    "import OpenAEM"
   ]
  },
  {
   "cell_type": "markdown",
   "metadata": {},
   "source": [
    "Make the line vortex extremely long"
   ]
  },
  {
   "cell_type": "code",
   "execution_count": null,
   "metadata": {},
   "outputs": [],
   "source": [
    "L = 1e5\n",
    "p0 = np.array([0, 0, -L/2])\n",
    "p1 = np.array([0, 0,  L/2])\n",
    "line = OpenAEM.DLS(p0, p1)"
   ]
  },
  {
   "cell_type": "markdown",
   "metadata": {},
   "source": [
    "## Example along x-axis"
   ]
  },
  {
   "cell_type": "code",
   "execution_count": null,
   "metadata": {},
   "outputs": [],
   "source": [
    "n = 11\n",
    "x = np.linspace(0, 1, n)\n",
    "y = np.zeros_like(x)\n",
    "us = np.zeros(n)\n",
    "vs = np.zeros(n)\n",
    "for i in range(n):\n",
    "    xv = np.array([x[i], y[i], 0.0])\n",
    "    us[i], vs[i], _ = OpenAEM.biot_savart(xv, line)\n",
    "plt.figure()\n",
    "plt.quiver(x, y, us, vs)\n",
    "plt.xlim(0, 1.2)\n",
    "plt.ylim(-0.1, 0.1)\n",
    "plt.tick_params(direction='in')"
   ]
  },
  {
   "cell_type": "markdown",
   "metadata": {},
   "source": [
    "## Example in the x-y plane"
   ]
  },
  {
   "cell_type": "code",
   "execution_count": null,
   "metadata": {},
   "outputs": [],
   "source": [
    "n = 21\n",
    "x = np.linspace(-3, 3, n)\n",
    "y = np.linspace(-3, 3, n)\n",
    "X, Y = np.meshgrid(x, y, indexing='ij')\n",
    "us = np.zeros((n, n))\n",
    "vs = np.zeros((n, n))\n",
    "for i in range(n):\n",
    "    for j in range(n):\n",
    "        xv = np.array([X[i, j], Y[i, j], 0.0])\n",
    "        us[i, j], vs[i, j], _ = OpenAEM.biot_savart(xv, line)\n",
    "        \n",
    "        \n",
    "plt.figure()\n",
    "plt.quiver(X, Y, us, vs)"
   ]
  },
  {
   "cell_type": "code",
   "execution_count": null,
   "metadata": {},
   "outputs": [],
   "source": [
    "fig, ax = plt.subplots(1, 1)\n",
    "ax.axis('equal')\n",
    "ax.quiver(X, Y, us, vs)"
   ]
  }
 ],
 "metadata": {
  "kernelspec": {
   "display_name": ".venv",
   "language": "python",
   "name": "python3"
  },
  "language_info": {
   "codemirror_mode": {
    "name": "ipython",
    "version": 3
   },
   "file_extension": ".py",
   "mimetype": "text/x-python",
   "name": "python",
   "nbconvert_exporter": "python",
   "pygments_lexer": "ipython3",
   "version": "3.9.6"
  },
  "orig_nbformat": 4
 },
 "nbformat": 4,
 "nbformat_minor": 2
}
