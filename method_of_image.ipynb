{
 "cells": [
  {
   "cell_type": "code",
   "execution_count": 1,
   "metadata": {},
   "outputs": [],
   "source": [
    "%matplotlib widget\n",
    "import numpy as np\n",
    "import matplotlib.pyplot as plt\n",
    "\n",
    "from vector import Vector, print_Vector\n",
    "from line import Line\n",
    "from line_vortex import biot_savart"
   ]
  },
  {
   "cell_type": "code",
   "execution_count": 14,
   "metadata": {},
   "outputs": [],
   "source": [
    "p0 = Vector(1, -0.5, 1)\n",
    "p1 = Vector(1, 0.5, 1)\n",
    "line = Line(p0, p1)\n",
    "line_inverse = Line(p1, p0)\n",
    "\n",
    "p0_mirror = Vector(1, -0.5, -1)\n",
    "p1_mirror = Vector(1, 0.5, -1)\n",
    "line_mirror = Line(p0_mirror, p1_mirror)\n",
    "line_mirror_reverse = Line(p1_mirror, p0_mirror)"
   ]
  },
  {
   "cell_type": "code",
   "execution_count": 15,
   "metadata": {},
   "outputs": [],
   "source": [
    "rng = np.random.default_rng(seed=12345)\n",
    "x = rng.random()\n",
    "xv = Vector(x, 0, 0)"
   ]
  },
  {
   "cell_type": "code",
   "execution_count": 16,
   "metadata": {},
   "outputs": [
    {
     "name": "stdout",
     "output_type": "stream",
     "text": [
      "(  -0.23,   -0.00,    0.18)\n"
     ]
    }
   ],
   "source": [
    "u = biot_savart(xv, line)\n",
    "print_Vector(u)"
   ]
  },
  {
   "cell_type": "code",
   "execution_count": 17,
   "metadata": {},
   "outputs": [
    {
     "name": "stdout",
     "output_type": "stream",
     "text": [
      "(   0.23,   -0.00,   -0.18)\n"
     ]
    }
   ],
   "source": [
    "u = biot_savart(xv, line_inverse)\n",
    "print_Vector(u)"
   ]
  },
  {
   "cell_type": "code",
   "execution_count": 18,
   "metadata": {},
   "outputs": [
    {
     "name": "stdout",
     "output_type": "stream",
     "text": [
      "(   0.23,   -0.00,    0.18)\n"
     ]
    }
   ],
   "source": [
    "u = biot_savart(xv, line_mirror)\n",
    "print_Vector(u)"
   ]
  },
  {
   "cell_type": "code",
   "execution_count": 19,
   "metadata": {},
   "outputs": [
    {
     "name": "stdout",
     "output_type": "stream",
     "text": [
      "(  -0.23,   -0.00,   -0.18)\n"
     ]
    }
   ],
   "source": [
    "u = biot_savart(xv, line_mirror_reverse)\n",
    "print_Vector(u)"
   ]
  }
 ],
 "metadata": {
  "kernelspec": {
   "display_name": ".venv",
   "language": "python",
   "name": "python3"
  },
  "language_info": {
   "codemirror_mode": {
    "name": "ipython",
    "version": 3
   },
   "file_extension": ".py",
   "mimetype": "text/x-python",
   "name": "python",
   "nbconvert_exporter": "python",
   "pygments_lexer": "ipython3",
   "version": "3.9.6"
  },
  "orig_nbformat": 4
 },
 "nbformat": 4,
 "nbformat_minor": 2
}
